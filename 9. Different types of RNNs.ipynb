{
 "cells": [
  {
   "cell_type": "markdown",
   "id": "d909a23c",
   "metadata": {},
   "source": [
    "# <span style =\"color:coral;font-size:30px\"> Types of RNNs </span>"
   ]
  },
  {
   "cell_type": "markdown",
   "id": "90b2257f",
   "metadata": {},
   "source": [
    "***"
   ]
  },
  {
   "cell_type": "markdown",
   "id": "e3774d44",
   "metadata": {},
   "source": [
    "There are different types of RNNs with varying architecture. Some examples are:"
   ]
  },
  {
   "cell_type": "markdown",
   "id": "9f591952",
   "metadata": {},
   "source": [
    "### One to One"
   ]
  },
  {
   "cell_type": "markdown",
   "id": "a5d335d1",
   "metadata": {},
   "source": [
    "![onetoone](5.png)"
   ]
  },
  {
   "cell_type": "markdown",
   "id": "912d040c",
   "metadata": {},
   "source": [
    "Here there is a single (Xt, Yt) pair. Traditional neural networks employ a one to one architecture."
   ]
  },
  {
   "cell_type": "markdown",
   "id": "94e76740",
   "metadata": {},
   "source": [
    "### One to Many"
   ]
  },
  {
   "cell_type": "markdown",
   "id": "eee24b60",
   "metadata": {},
   "source": [
    "![onetomany](6.webp)"
   ]
  },
  {
   "cell_type": "markdown",
   "id": "a34ae7c8",
   "metadata": {},
   "source": [
    "In one to many networks, a single input at Xt can produce multiple outputs, eg.. (Yt0, Yt1, Yt2). Music Generation is an example area, where one to many  networks are employed."
   ]
  },
  {
   "cell_type": "markdown",
   "id": "41ad2db6",
   "metadata": {},
   "source": [
    "### Many to one"
   ]
  },
  {
   "cell_type": "markdown",
   "id": "affc5075",
   "metadata": {},
   "source": [
    "![manytoone](7.webp)"
   ]
  },
  {
   "cell_type": "markdown",
   "id": "5a17bdea",
   "metadata": {},
   "source": [
    "In this case many inputs from different time steps produce a single output. For example, (Xt, Xt+1, Xt+2) can produce a single output Yt. Such networks are employed in sentiment analysis or emotion detection, where the class label depends upon a sequence of words."
   ]
  },
  {
   "cell_type": "markdown",
   "id": "e4eab57e",
   "metadata": {},
   "source": [
    "### Many to Many"
   ]
  },
  {
   "cell_type": "markdown",
   "id": "aebf87f5",
   "metadata": {},
   "source": [
    "![manytomany](7.webp)"
   ]
  },
  {
   "cell_type": "markdown",
   "id": "7e2291f5",
   "metadata": {},
   "source": [
    "There are many possibilities for many to many. An example is shown above, where two inputs produce three outputs. Many to many networks are applied in machine translation, eg. English to Hindi or Vise Versa translation system."
   ]
  },
  {
   "cell_type": "markdown",
   "id": "007288ba",
   "metadata": {},
   "source": [
    "***"
   ]
  }
 ],
 "metadata": {
  "kernelspec": {
   "display_name": "Python 3 (ipykernel)",
   "language": "python",
   "name": "python3"
  },
  "language_info": {
   "codemirror_mode": {
    "name": "ipython",
    "version": 3
   },
   "file_extension": ".py",
   "mimetype": "text/x-python",
   "name": "python",
   "nbconvert_exporter": "python",
   "pygments_lexer": "ipython3",
   "version": "3.11.7"
  }
 },
 "nbformat": 4,
 "nbformat_minor": 5
}
