{
 "cells": [
  {
   "cell_type": "markdown",
   "id": "b6e98b22",
   "metadata": {},
   "source": [
    "# <span style = \"color:DarkOliveGreen; font-size:40px\">Introduction to Recurrent Neural Network</span>"
   ]
  },
  {
   "cell_type": "markdown",
   "id": "f10f7751",
   "metadata": {},
   "source": [
    "***"
   ]
  },
  {
   "cell_type": "markdown",
   "id": "2472f3af",
   "metadata": {},
   "source": [
    "   When it comes to sequential or time series data, traditional feedforward networks cannot be used for learning and prediction. A mechanism is required that can retain past or historic information to forecast the future values. Recurrent neural networks or RNNs for short are a varient of the convolutional feedforward artificial neural networks that can deal with sequential data and can be trained to hold the knowledge about the past."
   ]
  },
  {
   "cell_type": "markdown",
   "id": "e60db852",
   "metadata": {},
   "source": [
    "For instance, do you know how Google's autocompleting feature predicts the rest of the words a user is typing, or how Google Assistant works? This happens with the help of a special kind of neural network called a Reccurent Neural Network. And this is how Google's autocompleting feature works- A collection of large volumes of most frequently occuring consecutive words is stored in a database, and this data is fed to a recurrent neural network. This network analyses the data by finding the sequence of words occuring frequently and builds a model to predict the next word in the sentence."
   ]
  },
  {
   "cell_type": "markdown",
   "id": "859911d4",
   "metadata": {},
   "source": [
    "For example, if you search for \"What's the best food to eat in Las____\", Google autocompletes to results in \"Vegas\"."
   ]
  },
  {
   "cell_type": "markdown",
   "id": "9115fde3",
   "metadata": {},
   "source": [
    "![rnn](1.png)"
   ]
  },
  {
   "cell_type": "markdown",
   "id": "a939dc5f",
   "metadata": {},
   "source": [
    "## <span style =\"color:coral\"> What is Recurrent Neural Network(RNN)?</span>"
   ]
  },
  {
   "cell_type": "markdown",
   "id": "470fec22",
   "metadata": {},
   "source": [
    "RNN works on the principle of saving the output of a particular layer and feeding this back to the input in order to predict the output of the layer."
   ]
  },
  {
   "cell_type": "markdown",
   "id": "155372d5",
   "metadata": {},
   "source": [
    "Below is how you can convert a Feed-forward Neural network into a Reccurent Neural Network:"
   ]
  },
  {
   "cell_type": "markdown",
   "id": "d65695ba",
   "metadata": {},
   "source": [
    "![rnn](2.gif)"
   ]
  },
  {
   "cell_type": "markdown",
   "id": "f21760a9",
   "metadata": {},
   "source": [
    "The nodes in different layers of the neural network are comprised to form a single layer of recurrent neural networks. A,B and C are the parameters of the network."
   ]
  },
  {
   "cell_type": "markdown",
   "id": "0025eec4",
   "metadata": {},
   "source": [
    "![title](3.gif)"
   ]
  },
  {
   "cell_type": "markdown",
   "id": "47f28b92",
   "metadata": {},
   "source": [
    "Here, \"x\" is the input layer,\"h\" is the hidden layer, and \"y\" is the output layer. A,B and C are the network parameters used to improve the output of the model. At any given time, the current input is a combination of input at x(t) and x(t-1). The output at any given time is fetched back to the network to improve the output."
   ]
  },
  {
   "cell_type": "markdown",
   "id": "d61bced2",
   "metadata": {},
   "source": [
    "### Why use Recurrent Neural Networks?"
   ]
  },
  {
   "cell_type": "markdown",
   "id": "691f3f1c",
   "metadata": {},
   "source": [
    "RNN were created because there were a few issues in the feed-forward neural network:\n",
    "\n",
    "   * Cannot Handle sequential data\n",
    "   * Considers only the current input\n",
    "   * Cannot memorize previous inputs"
   ]
  },
  {
   "cell_type": "markdown",
   "id": "d1d093d0",
   "metadata": {},
   "source": [
    "The solution to these issues is the RNN. An RNN can handle sequential data, accepting the current input data, and previously recieved inputs. RNNs can memorize previous inputs due to their internal memory."
   ]
  },
  {
   "cell_type": "markdown",
   "id": "3f8fb8d9",
   "metadata": {},
   "source": [
    "### Applications of RNN"
   ]
  },
  {
   "cell_type": "markdown",
   "id": "ef64d103",
   "metadata": {},
   "source": [
    "1. Image Captioning\n",
    "    - RNNs are used to caption an image by analyzing the activities present.\n",
    "2. Time Series Prediction\n",
    "    - Any time series problem, like prdicting the prices of stocks in a particular month, can be solved using an RNN.\n",
    "3. Natural Language Processing\n",
    "    - Text mining and Sentiment analysis can be carried out using an RNN for Natural Language Processing (NLP).\n",
    "4. Machine Translation\n",
    "    - Given an input in one language, RNNs can be used to translate the input into different languages as output."
   ]
  },
  {
   "cell_type": "markdown",
   "id": "914a001a",
   "metadata": {},
   "source": [
    "### Advantages and Shortcomings of RNNs"
   ]
  },
  {
   "cell_type": "markdown",
   "id": "81a8b41c",
   "metadata": {},
   "source": [
    "RNNs have various advantages such as:\n",
    "* Ability to handle sequential data\n",
    "* Ability to handle inputs of varying lengths\n",
    "* Ability to store or 'memorise' historical information"
   ]
  },
  {
   "cell_type": "markdown",
   "id": "51e92d66",
   "metadata": {},
   "source": [
    "### The disadvantages are:\n",
    "* The computation can be very slow.\n",
    "* The network does not take into accout future inputs to make decisions.\n",
    "* Vanishing gradient problem, where the gradients used to compute the weight update may get very close to zero preventing the network from learning new weights. The deeper the network, the more pronounced is the problem."
   ]
  },
  {
   "cell_type": "markdown",
   "id": "948aac47",
   "metadata": {},
   "source": [
    "***"
   ]
  }
 ],
 "metadata": {
  "kernelspec": {
   "display_name": "Python 3 (ipykernel)",
   "language": "python",
   "name": "python3"
  },
  "language_info": {
   "codemirror_mode": {
    "name": "ipython",
    "version": 3
   },
   "file_extension": ".py",
   "mimetype": "text/x-python",
   "name": "python",
   "nbconvert_exporter": "python",
   "pygments_lexer": "ipython3",
   "version": "3.11.7"
  }
 },
 "nbformat": 4,
 "nbformat_minor": 5
}
