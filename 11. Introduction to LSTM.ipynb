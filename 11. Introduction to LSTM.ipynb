{
 "cells": [
  {
   "cell_type": "markdown",
   "id": "634e7a24",
   "metadata": {},
   "source": [
    "# <span style = \"color:green\"> Introduction to LSTM </span>"
   ]
  },
  {
   "cell_type": "markdown",
   "id": "e7de5301",
   "metadata": {},
   "source": [
    "***"
   ]
  },
  {
   "cell_type": "markdown",
   "id": "2ce64cca",
   "metadata": {},
   "source": [
    "Long Short Term Memory Network is an advanced RNN, a sequential network, that allows information to persist. It is capable of handling the vanishing gradient problem faced by RNN. A recurrent neural network is also known as RNN is used for peristent memory.\n",
    "\n",
    "Let's say while watching a video you remember the previous scene or while reading a book you know what happened in the earlier chapter. Similarly, RNNs work, they remember the previous information and use it for processing the current input. The shortcoming of RNN is, they can not remember Long term dependencies due to vanishing gradient. LSTMs are explicitly designed to avoid long-term dependency problems."
   ]
  },
  {
   "cell_type": "markdown",
   "id": "88b1ca23",
   "metadata": {},
   "source": [
    "LSTMs are explicitly designed to avoid the long-term dependency problem. Remembering information for long periods is practically their default behaviour, not something they struggle to learn!"
   ]
  },
  {
   "cell_type": "markdown",
   "id": "fb22af6e",
   "metadata": {},
   "source": [
    "![lstm](9.webp)"
   ]
  },
  {
   "cell_type": "markdown",
   "id": "11fec64e",
   "metadata": {},
   "source": [
    "### Concept Behind LSTMs"
   ]
  },
  {
   "cell_type": "markdown",
   "id": "38a48b40",
   "metadata": {},
   "source": [
    "The key to LSTMs is the cell state, the horizontal line running through the top of the diagram. The cell state is kind of like a conveyor belt. It runs straight down the entire chain, with only some minor linear interactions. Its very easy for information to just flow along with it unchanged."
   ]
  },
  {
   "cell_type": "markdown",
   "id": "dba3967b",
   "metadata": {},
   "source": [
    "![cellstate](10.webp)"
   ]
  },
  {
   "cell_type": "markdown",
   "id": "81b17030",
   "metadata": {},
   "source": [
    "<center style = \"color:red\"> The black line represents cell state</center>"
   ]
  },
  {
   "cell_type": "markdown",
   "id": "65706b92",
   "metadata": {},
   "source": [
    "The LSTM does have the ability to remove or add information to the cell state, carefully regulated by structures called gates."
   ]
  },
  {
   "cell_type": "markdown",
   "id": "54fc0ec6",
   "metadata": {},
   "source": [
    "Gates are a way to optionally let information through. They are composed out of sigmoid neural net layer and a pointwise multiplication operation."
   ]
  },
  {
   "cell_type": "markdown",
   "id": "05e1cd75",
   "metadata": {},
   "source": [
    "The sigmoid layer outputs numbers between zero and one, describing how much of each component should be let through. A value of zero means \"let nothing through\", while a value of one means \"let everything through!\""
   ]
  },
  {
   "cell_type": "markdown",
   "id": "40c4301b",
   "metadata": {},
   "source": [
    "If you look at the arhitecture of LSTM you can observe that it has three gates, to protect and control the cell state:\n",
    "\n",
    "    1. Forget Gate\n",
    "    2. Input Gate\n",
    "    3. Output Gate"
   ]
  },
  {
   "cell_type": "markdown",
   "id": "524637ce",
   "metadata": {},
   "source": [
    "Gates in LSTM are the sigmoid activation functions ie, they output a value between 0 or 1 and in most cases,it is either 0 or 1. we use the sigmoid function for gates because we want to give only positive values and should be able to give us a clear cut answer whether we need to keep a particular feature or we need to discard that feature."
   ]
  },
  {
   "cell_type": "markdown",
   "id": "daf58ce4",
   "metadata": {},
   "source": [
    "### Applications of LSTM:"
   ]
  },
  {
   "cell_type": "markdown",
   "id": "4d6bcbc1",
   "metadata": {},
   "source": [
    "1. Language Modelling\n",
    "2. Machine Translation\n",
    "3. Image Captioning\n",
    "4. Handwriting Generation\n",
    "5. Question Answering Chatbots"
   ]
  },
  {
   "cell_type": "markdown",
   "id": "3443d1a9",
   "metadata": {},
   "source": [
    "***"
   ]
  }
 ],
 "metadata": {
  "kernelspec": {
   "display_name": "Python 3 (ipykernel)",
   "language": "python",
   "name": "python3"
  },
  "language_info": {
   "codemirror_mode": {
    "name": "ipython",
    "version": 3
   },
   "file_extension": ".py",
   "mimetype": "text/x-python",
   "name": "python",
   "nbconvert_exporter": "python",
   "pygments_lexer": "ipython3",
   "version": "3.11.7"
  }
 },
 "nbformat": 4,
 "nbformat_minor": 5
}
