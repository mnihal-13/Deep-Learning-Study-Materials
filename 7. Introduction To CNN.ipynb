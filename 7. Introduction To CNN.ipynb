{
 "cells": [
  {
   "cell_type": "markdown",
   "id": "7702fdbe",
   "metadata": {},
   "source": [
    "# <span style = \"color:green\">Introduction to Convolutional Neural Network</span>"
   ]
  },
  {
   "cell_type": "markdown",
   "id": "efa344d7",
   "metadata": {},
   "source": [
    "***"
   ]
  },
  {
   "cell_type": "markdown",
   "id": "9601ddb6",
   "metadata": {},
   "source": [
    "Convolutional Neural Network (CNN), is a powerful image processing deep learning type often used in computer vision that comprises an image and video recognition along with a recommender system and natural language processing(NLP).\n",
    "\n",
    "CNN uses a multilayer system consists of the input layer, output layer that comprises multiple convolutional layers, pooling layers, fully connected layers."
   ]
  },
  {
   "cell_type": "markdown",
   "id": "6ecb6484",
   "metadata": {},
   "source": [
    "Now let's talk a bit about the mathematics involved in the whole convolution process.\n",
    "* Convolution layers consist of a set of learnable filters(patch in the above image). Every filter has small width and height and the same depth as that of input volume(3 if the input layer is image input).\n",
    "* For example, if we have to run convolution on an image with dimension 34x34x3. Possible size of filters can be axax3, where 'a' can be 3,5,7, etc but small as compared to image dimension.\n",
    "* During forward pass, we slide each filter across the whole input volume step by step where each step is called stride (which can have value 2 or 3 or even 4 for high dimensional  images) and compute the dot product between the weights of filters and patch from input volume.\n",
    "* As we slide our filters we'll get a 2D output for each filter and we'll stack them together and as a result, we'll get the output volume having a depth equal to the number of filters. The network will learn all the filters."
   ]
  },
  {
   "cell_type": "markdown",
   "id": "8f3b5125",
   "metadata": {},
   "source": [
    "## Layers used to build ConvNets\n",
    "A convnets is a sequence of layers, and every layer transforms one volume to another through differentiable function."
   ]
  },
  {
   "cell_type": "markdown",
   "id": "3a04e363",
   "metadata": {},
   "source": [
    "## Types of layers:\n",
    "<b>1. Input layer:</b> This layer holds the raw input of image with width 32, height 32 and depth 3.\n",
    "\n",
    "<b>2. Convolution Layer:</b> This layer computes the output volume by computing dot product between all filters and image patch. Suppose we use total 12 filters for this layer we’ll get output volume of dimension 32 x 32 x 12.\n",
    "\n",
    "<b>3. Activation Function Layer:</b> This layer will apply element wise activation function to the output of convolution layer. Some common activation functions are RELU: max(0, x), Sigmoid: 1/(1+e^-x), Tanh, Leaky RELU, etc. The volume remains unchanged hence output volume will have dimension 32 x 32 x 12.\n",
    "\n",
    "<b>4. Pool Layer:</b> This layer is periodically inserted in the covnets and its main function is to reduce the size of volume which makes the computation fast reduces memory and also prevents from overfitting. Two common types of pooling layers are max pooling and average pooling. If we use a max pool with 2 x 2 filters and stride 2, the resultant volume will be of dimension 16x16x12. "
   ]
  },
  {
   "cell_type": "markdown",
   "id": "7ce8056a",
   "metadata": {},
   "source": [
    "![title](1.png)"
   ]
  },
  {
   "cell_type": "markdown",
   "id": "f6204e08",
   "metadata": {},
   "source": [
    "## How does CNNs work?"
   ]
  },
  {
   "cell_type": "markdown",
   "id": "af3e137c",
   "metadata": {},
   "source": [
    "Although they can be used for other tasks, CNNs are mostly used in tasks involving image data. Each image contains pixel data that can be represented in a numerical form. This numerical representation is what is passed to a CNN. As much as normal artificial neural networks can be used in processing image data, CNNs have proven to perform better, resulting in higher accuracy. Let’s now take a look at how CNNs work."
   ]
  },
  {
   "cell_type": "markdown",
   "id": "66dcb654",
   "metadata": {},
   "source": [
    "### Convolution\n",
    "Usually, you will not feed the entire image to a CNN. You will feed the features that are most important in classifying the image. The features are obtained through a process known as convolution. The convolution operation results in what is known as a feature map. It is also referred to as the convolved feature or an activation map.  The feature map is obtained by applying a feature detector to the input image. The feature detector is also referred to as a kernel or a filter. The filter is usually a 3 by 3 matrix. However, other types of matrices can be used. The feature map is obtained through an element-wise multiplication of the filter with the matrix representation of the input image. The objective here is to reduce the size of the image being passed to the CNN while maintaining the important features. The filter slides step by step through each of the elements in the input image. These steps are known as strides and can be defined when creating the CNN. When building the CNN you will be able to define the number of filters you want for your network. "
   ]
  },
  {
   "cell_type": "markdown",
   "id": "be407ebd",
   "metadata": {},
   "source": [
    "### Pooling\n",
    "Pooling results in what is known as a pooled feature map. Pooling ensures that the neural network is able to detect features in an image irrespective of their location in an image. This is what is known as spatial invariance. There are several types of pooling, for example, max-pooling average pooling, and min pooling. For instance, in max-pooling a 2 by 2 matrix is slid over the feature map while picking the largest value in a given box. "
   ]
  },
  {
   "cell_type": "markdown",
   "id": "2ada9e07",
   "metadata": {},
   "source": [
    "Pooling ensures that the main features of the image are maintained while reducing the size of the image further. This reduces the amount of information passed to the neural network and hence helps to reduce overfitting."
   ]
  },
  {
   "cell_type": "markdown",
   "id": "b9b578b2",
   "metadata": {},
   "source": [
    "#### Benefits of pooling\n",
    "* Reduces dimensions & computation\n",
    "* Reduces overfitting as there are less parameters\n",
    "* Model is tolerent towards variations, distortions"
   ]
  },
  {
   "cell_type": "markdown",
   "id": "8826a67f",
   "metadata": {},
   "source": [
    "### Flattening\n",
    "The next step is to flatten the pooled feature map. This involves transforming the entire pooled feature map into a single column that can be passed to the fully connected layer. "
   ]
  },
  {
   "cell_type": "markdown",
   "id": "bb289df1",
   "metadata": {},
   "source": [
    "### Full connection\n",
    "The flattened feature map is then passed to the input layer of the neural network. The result of that is passed to a fully connected layer. After that, the result of the entire process is emitted by the output layer. An activation function is usually applied depending on the type of classification problem. For binary classifications, the sigmoid activation function will be used whereas the softmax activation function is used for multiclass problems."
   ]
  },
  {
   "cell_type": "markdown",
   "id": "af90ee58",
   "metadata": {},
   "source": [
    "### What does a convolutional neural network (CNN) do differently?"
   ]
  },
  {
   "cell_type": "markdown",
   "id": "0ab5cec3",
   "metadata": {},
   "source": [
    "A convolutional neural network is a specific kind of neural network with multiple layers. It processes data that has a grid-like arrangement then extracts important features. One huge advantage of using CNNs is that you don't need to do a lot of pre-processing on images."
   ]
  },
  {
   "cell_type": "markdown",
   "id": "ed994d3b",
   "metadata": {},
   "source": [
    "With most algorithms that handle image processing, the filters are typically created by an engineer based on heuristics. CNNs can learn what characteristics in the filters are the most important. That saves a lot of time and trial and error work since we don't need as many parameters.\n",
    "\n",
    "It doesn't seem like a huge savings until you are working with high resolution images that have thousands of pixels. The convolutional neural network algorithm's main purpose is to get data into forms that are easier to process without losing the features that are important for figuring out what the data represents. This also makes them great candidates for handling huge datasets.\n",
    "\n",
    "A big difference between a CNN and a regular neural network is that CNNs use convolutions to handle the math behind the scenes. A convolution is used instead of matrix multiplication in at least one layer of the CNN. Convolutions take to two functions and return a function.\n",
    "\n",
    "CNNs work by applying filters to your input data. What makes them so special is that CNNs are able to tune the filters as training happens. That way the results are fine-tuned in real time, even when you have huge data sets, like with images.\n",
    "\n",
    "Since the filters can be updated to train the CNN better, this removes the need for hand-created filters. That gives us more flexibility in the number of filters we can apply to a data set and the relevance of those filters. Using this algorithm, we can work on more sophisticated problems like face recognition.\n",
    "\n",
    "One of things that prevents a lot of problems from using CNNs is a lack of data. While networks can be trained with relatively few data points (~10,000 >), the more data there is available, the better tuned the CNN will be.\n",
    "\n",
    "Just keep in mind that these data points have to be clean and labeled in order for the CNN in to be able to use them. That's what makes them so expensive to work with."
   ]
  },
  {
   "cell_type": "markdown",
   "id": "d1cc6d93",
   "metadata": {},
   "source": [
    "## Applications for Convolutional Neural Networks"
   ]
  },
  {
   "cell_type": "markdown",
   "id": "0406afa5",
   "metadata": {},
   "source": [
    "There are multiple kinds of CNNs you can use depending on your problem."
   ]
  },
  {
   "cell_type": "markdown",
   "id": "c665571a",
   "metadata": {},
   "source": [
    "### Different types of CNNs\n",
    "<b>1D CNN:</b> With these, the CNN kernel moves in one direction. 1D CNNs are usually used on time-series data.\n",
    "\n",
    "<b>2D CNN:</b> These kinds of CNN kernels move in two directions. You'll see these used with image labelling and processing.\n",
    "\n",
    "<b>3D CNN:</b> This kind of CNN has a kernel that moves in three directions. With this type of CNN, researchers use them on 3D images like CT scans and MRIs.\n",
    "\n",
    "In most cases, you'll see 2D CNNs because those are commonly associated with image data. Here are some of the applications that you might see CNNs used for.\n",
    "\n",
    "* Recognize images with little preprocessing\n",
    "* Recognize different hand-writing\n",
    "* Computer vision applications\n",
    "* Used in banking to read digits on checks\n",
    "* Used in postal services to read zip codes on an envelope"
   ]
  },
  {
   "cell_type": "markdown",
   "id": "eba29ccb",
   "metadata": {},
   "source": [
    "### How does a CNN model look like in Python?"
   ]
  },
  {
   "cell_type": "code",
   "execution_count": null,
   "id": "04449c45",
   "metadata": {},
   "outputs": [],
   "source": [
    "model = tf.keras.Sequential(\n",
    "    [\n",
    "    tf.keras.layers.Conv2D(32, (3,3), activation=\"relu\",input_shape=(32, 32, 3)),\n",
    "    tf.keras.layers.MaxPooling2D((2, 2)),\n",
    "\n",
    "    tf.keras.layers.Conv2D(64, (3,3), padding='same', activation=\"relu\"),\n",
    "    tf.keras.layers.MaxPooling2D((2, 2)),\n",
    "\n",
    "    tf.keras.layers.Flatten(),\n",
    "    tf.keras.layers.Dense(100, activation=\"relu\"),\n",
    "    tf.keras.layers.Dense(10, activation=\"softmax\")\n",
    "]\n",
    ")"
   ]
  },
  {
   "cell_type": "markdown",
   "id": "b6c75caa",
   "metadata": {},
   "source": [
    "***"
   ]
  },
  {
   "cell_type": "markdown",
   "id": "45684311",
   "metadata": {},
   "source": [
    "# <center><a href = \"http://edure.in/\"><span style = \"color:CornflowerBlue; font-family:Courier New;font-size:40px\">EDURE LEARNING</span></a></center>"
   ]
  }
 ],
 "metadata": {
  "kernelspec": {
   "display_name": "Python 3 (ipykernel)",
   "language": "python",
   "name": "python3"
  },
  "language_info": {
   "codemirror_mode": {
    "name": "ipython",
    "version": 3
   },
   "file_extension": ".py",
   "mimetype": "text/x-python",
   "name": "python",
   "nbconvert_exporter": "python",
   "pygments_lexer": "ipython3",
   "version": "3.11.7"
  }
 },
 "nbformat": 4,
 "nbformat_minor": 5
}
