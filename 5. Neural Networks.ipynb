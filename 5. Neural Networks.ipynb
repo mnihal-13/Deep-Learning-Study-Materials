{
 "cells": [
  {
   "cell_type": "markdown",
   "id": "b0eb4155",
   "metadata": {},
   "source": [
    "# <span style = \"color: green\"> What are Neural Networks? </span>"
   ]
  },
  {
   "cell_type": "markdown",
   "id": "8d6aa419",
   "metadata": {},
   "source": [
    "***"
   ]
  },
  {
   "cell_type": "markdown",
   "id": "6bb70ba3",
   "metadata": {},
   "source": [
    "<b> Neural networks</b>, also known as artificial neural networks (ANNs) or simulated neural networks (SNNs), are a subset of machine learning and are at the heart of deep learning algorithms. Their name and structure are inspired by the human brain, mimicking the way that biological neurons signal to one another.<br>\n",
    "Artificial neural networks (ANNs) are comprised of a node layers, containing an input layer, one or more hidden layers, and an output layer. Each node, or artificial neuron, connects to another and has an associated weight and threshold. If the output of any individual node is above the specified threshold value, that node is activated, sending data to the next layer of the network. Otherwise, no data is passed along to the next layer of the network."
   ]
  },
  {
   "cell_type": "markdown",
   "id": "e79f2ff9",
   "metadata": {},
   "source": [
    "![title](1.jpg)"
   ]
  },
  {
   "cell_type": "markdown",
   "id": "c15ade79",
   "metadata": {},
   "source": [
    "Neural networks rely on training data to learn and improve their accuracy over-time. However, once these learning algorithms are fine-tuned for accuracy, they are powerful tools in computer science and artificial intelligence, allowing us to classify and cluster data at a high velocity. Tasks in speech recognition or image recognition can take minutes versus hours when compared to manual identification by human experts. One of the most well-known neural networks in Google's search algorithm."
   ]
  },
  {
   "cell_type": "markdown",
   "id": "d1ae492c",
   "metadata": {},
   "source": [
    "## How do neural networks work?"
   ]
  },
  {
   "cell_type": "markdown",
   "id": "a6678839",
   "metadata": {},
   "source": [
    "Think of each individual node as its own linear regression model, composed of input data, weights, a bias(or threshold), and an output. The formula would look something like this:"
   ]
  },
  {
   "cell_type": "markdown",
   "id": "578ba25a",
   "metadata": {},
   "source": [
    "![title](2.png)"
   ]
  },
  {
   "cell_type": "markdown",
   "id": "dff77931",
   "metadata": {},
   "source": [
    "![title](3.png)"
   ]
  },
  {
   "cell_type": "markdown",
   "id": "4451b3bd",
   "metadata": {},
   "source": [
    "Once an input layer is determined, weights are assigned. These weights help determine the importance of any given variable, with larger onces contributing more significantly to the output compared to other inputs. All inputs are then multiplied by their respective weights and then summed. Afterward, the output is passed through an activation function, which determines the output. If that output exceeds a given threshold, It \"fires\" (or activates) the node, passing data to the next layer in the network. This results in the output of one node becoming the input of the next node. This process of passing data from one layer to the next layer defines this neural network as feedforward network."
   ]
  },
  {
   "cell_type": "markdown",
   "id": "9b695316",
   "metadata": {},
   "source": [
    "Let's break down what one single node might look like using binary values. We can apply this concept to a more tangible example, like whether you should go surfing (Yes: 1, No: 0). The decision to go or not to go is our predicted outcome, or y-hat. Let's assume that there are three factors influencing your decision-making:\n",
    "1. Are the waves good? (Yes:1, No:0)\n",
    "2. Is the line-up empty? (Yes:1, No:0)\n",
    "3. Has there been a recent shark attack? (Yes:0, No:1)\n",
    "Then, let's assume the following, giving us the following inputs:\n",
    "- X1 = 1, since the waves are pumping\n",
    "- X2 = 0, since the crowds are out\n",
    "- X3 = 1, since there hasn't been a recent shark attack\n",
    "\n",
    "Now, we need to assign some weights to determine importance. Larger weights signify that particular variables are of greater importance to the decision or outcome.\n",
    "\n",
    "- W1 = 5, since large swells don't come around often\n",
    "- W2 = 2, since your're used to the crowds\n",
    "- W3 = 4, since you have a fear of sharks\n",
    "\n",
    "Finally, we'll also assume a thresolf value of 3, which would translate to a bias value of -3. With all the various inputs, we can start to plug in values into the formula to get the desired output.\n",
    "\n",
    "Y-hat = (1*5) + (0*2) + (1*4) - 3 = 6\n",
    "\n",
    "If we use the activation function from the beginning of this section, we can determine that the output of this node would be 1, since 6 is greater than 0. In this instance, you would go surfing; but if we adjust the weights or the threshold, we can achieve different outcomes from the model. When we observe one decison, like in the above example, we can see how a neural network could make increasinly complex decisions depending on the output of previous decisions or layers.\n",
    "\n",
    "In the example above, we used percesptrons to illustrate some of the mathematics at play here, but neural networks leverage sigmoid neurons, which are distinguished by having values 0 and 1. Since neural networks behave similarly to decision trees, cascading data from one node to another, having x values between 0 and 1 will reduce the impact of any given change of a single variable on the output of any given node, and subsequently, the output of the neural network.\n",
    "\n",
    "As we start to think about more practical use cases for neural networks, like image recognition or classification, we'll leverage supervised learning, or labeled datasets, to train the algorithm. As we train the model, we'll want to evaluate its accuracy using a cost (or loss) function. This is also commonly reffered to as the mean squared error(MSE)."
   ]
  },
  {
   "cell_type": "markdown",
   "id": "984d7122",
   "metadata": {},
   "source": [
    "![title](4.png)"
   ]
  },
  {
   "cell_type": "markdown",
   "id": "64a2cb7f",
   "metadata": {},
   "source": [
    "In the equation above,\n",
    "* i represents the index of the sample\n",
    "* y-hat is the predicted outcome\n",
    "* y is the actual value\n",
    "* m is the number of samples"
   ]
  },
  {
   "cell_type": "markdown",
   "id": "bad43b99",
   "metadata": {},
   "source": [
    "Ulimately, the goal is to minimise our cost function to ensure correctness of fit for any given observation. As the model adjusts its weights and bias, It uses the cost function and reinforcement learning to reach the point of convergence, or the local minimum. The process in which the algorithm adjusts its weights is through gradient descent, allowing the model to determine the direction to take to reduce errors (or minimise the cost function). With each training example, the parameters of the model adjust to gradually converge at the minimum."
   ]
  },
  {
   "cell_type": "markdown",
   "id": "328ce59e",
   "metadata": {},
   "source": [
    "![title](5.jpeg)"
   ]
  },
  {
   "cell_type": "markdown",
   "id": "bad50a7e",
   "metadata": {},
   "source": [
    "Most deep neural networks are feedforward, meaning they flow in one direction only, from input to output. However, you can also train your model through backpropogation; that is, move in the opposite direction from outside to input. Backpropogation allows us to calculate and attribute the errors associated with each neuron, allowing us to adjust and fit the parameters of the model(s) appropriately."
   ]
  },
  {
   "cell_type": "markdown",
   "id": "cb682a14",
   "metadata": {},
   "source": [
    "### Types of neural networks"
   ]
  },
  {
   "cell_type": "markdown",
   "id": "3692fdbd",
   "metadata": {},
   "source": [
    "Neural networks can be classified into different types, which are used for different purposes. While this isn't a comprehensive list of types, the below would be represntative of the most common types of neural networks that you'll come across fo its common use cases:\n",
    "\n",
    "The <b>perceptron</b> is the oldest neural network, created by Frank Rosenblatt in 1958. It has a single neuron and is the simplest form of a neural network:"
   ]
  },
  {
   "cell_type": "markdown",
   "id": "d1e9c3e5",
   "metadata": {},
   "source": [
    "<b>Feedforward neural networks, or multilayered perceptrons(MLPs)</b>, comprise of an input layer, a hidden layer or layers, and an output layer. While thee neural networks are also commonly referred to as MLPs, It's important to note that they are actually comprised of sigmoid neurons, not perceptrons, as most real-world problems are non-linear. Data usually is fed into these models to train them, and they are the foundation for computer vision, natural language processing, and other neural networks."
   ]
  },
  {
   "cell_type": "markdown",
   "id": "b59b3b41",
   "metadata": {},
   "source": [
    "<b>Convolutional Neural Networks(CNNs)</b> are similar to feedforward networks, but they're usually utilized for image recognition, pattern recognition, and/or computer vision. These networks harness principles from linear algebra, particularly matrix multiplication, to identify patterns within an image."
   ]
  },
  {
   "cell_type": "markdown",
   "id": "0602c93c",
   "metadata": {},
   "source": [
    "<b> Recurrent Neural Networks(RNNs)</b> are identified by their feedback loops. These learning algorithms are primarlily leveraged while using time-series data to make predictions about future outcomes, such as stock market predictions or sales forecasting."
   ]
  },
  {
   "cell_type": "markdown",
   "id": "db99029b",
   "metadata": {},
   "source": [
    "### Neural Networks vs Deep Learning"
   ]
  },
  {
   "cell_type": "markdown",
   "id": "5675f0e8",
   "metadata": {},
   "source": [
    "Deep Learning and Neural networks tend to be used interchagebly in conversation, which can be confusing. As a result, it's worth noting that the 'deep' in deep learning is just referring to the depth of layers in a neural network. A neural network that consists of more than three layers-which would be inclusive of the inputs and the outputs-can be considered a deep learning algorithm. A neural network that only has two or three layers is just a basic neural network."
   ]
  },
  {
   "cell_type": "markdown",
   "id": "b5283566",
   "metadata": {},
   "source": [
    "***"
   ]
  }
 ],
 "metadata": {
  "kernelspec": {
   "display_name": "Python 3 (ipykernel)",
   "language": "python",
   "name": "python3"
  },
  "language_info": {
   "codemirror_mode": {
    "name": "ipython",
    "version": 3
   },
   "file_extension": ".py",
   "mimetype": "text/x-python",
   "name": "python",
   "nbconvert_exporter": "python",
   "pygments_lexer": "ipython3",
   "version": "3.11.7"
  }
 },
 "nbformat": 4,
 "nbformat_minor": 5
}
